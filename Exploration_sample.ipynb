{
 "cells": [
  {
   "cell_type": "markdown",
   "metadata": {},
   "source": [
    "# Randomly sample Wikipedia articles"
   ]
  },
  {
   "cell_type": "code",
   "execution_count": 1,
   "metadata": {},
   "outputs": [],
   "source": [
    "import pandas as pd\n",
    "import numpy as np"
   ]
  },
  {
   "cell_type": "markdown",
   "metadata": {},
   "source": [
    "Stratified sample using [wp1.openzim.org](https://github.com/openzim/wp1) data:"
   ]
  },
  {
   "cell_type": "code",
   "execution_count": 2,
   "metadata": {},
   "outputs": [],
   "source": [
    "wp10_raw = pd.read_csv('data/wp1_openzim_20200419.csv.zip')"
   ]
  },
  {
   "cell_type": "code",
   "execution_count": 3,
   "metadata": {},
   "outputs": [],
   "source": [
    "wp10_raw['importance'] = pd.Categorical(wp10_raw['importance'], categories = ['Unknown', 'Low', 'Mid', 'High', 'Top'], ordered = True)\n",
    "wp10_raw['quality'] = pd.Categorical(wp10_raw['quality'], categories = ['Unassessed', 'List', 'Stub', 'Start', 'C', 'B', 'GA', 'A', 'FL', 'FA'], ordered = True)"
   ]
  },
  {
   "cell_type": "code",
   "execution_count": 4,
   "metadata": {},
   "outputs": [],
   "source": [
    "wp10_quality = wp10_raw.groupby('article')['quality'].max().reset_index()"
   ]
  },
  {
   "cell_type": "code",
   "execution_count": 5,
   "metadata": {},
   "outputs": [],
   "source": [
    "wp10_quality_count = wp10_quality['quality'].value_counts().reset_index()"
   ]
  },
  {
   "cell_type": "code",
   "execution_count": 6,
   "metadata": {},
   "outputs": [],
   "source": [
    "wp10_quality_count['index'] = pd.Categorical(wp10_quality_count['index'], categories = ['Unassessed', 'List', 'Stub', 'Start', 'C', 'B', 'GA', 'A', 'FL', 'FA'], ordered = True)"
   ]
  },
  {
   "cell_type": "code",
   "execution_count": 7,
   "metadata": {},
   "outputs": [
    {
     "data": {
      "text/html": [
       "<div>\n",
       "<style scoped>\n",
       "    .dataframe tbody tr th:only-of-type {\n",
       "        vertical-align: middle;\n",
       "    }\n",
       "\n",
       "    .dataframe tbody tr th {\n",
       "        vertical-align: top;\n",
       "    }\n",
       "\n",
       "    .dataframe thead th {\n",
       "        text-align: right;\n",
       "    }\n",
       "</style>\n",
       "<table border=\"1\" class=\"dataframe\">\n",
       "  <thead>\n",
       "    <tr style=\"text-align: right;\">\n",
       "      <th></th>\n",
       "      <th>index</th>\n",
       "      <th>quality</th>\n",
       "    </tr>\n",
       "  </thead>\n",
       "  <tbody>\n",
       "    <tr>\n",
       "      <th>5</th>\n",
       "      <td>FA</td>\n",
       "      <td>5347</td>\n",
       "    </tr>\n",
       "    <tr>\n",
       "      <th>6</th>\n",
       "      <td>FL</td>\n",
       "      <td>2802</td>\n",
       "    </tr>\n",
       "    <tr>\n",
       "      <th>9</th>\n",
       "      <td>A</td>\n",
       "      <td>568</td>\n",
       "    </tr>\n",
       "    <tr>\n",
       "      <th>3</th>\n",
       "      <td>GA</td>\n",
       "      <td>18788</td>\n",
       "    </tr>\n",
       "    <tr>\n",
       "      <th>1</th>\n",
       "      <td>B</td>\n",
       "      <td>30252</td>\n",
       "    </tr>\n",
       "    <tr>\n",
       "      <th>0</th>\n",
       "      <td>C</td>\n",
       "      <td>31730</td>\n",
       "    </tr>\n",
       "    <tr>\n",
       "      <th>2</th>\n",
       "      <td>Start</td>\n",
       "      <td>26633</td>\n",
       "    </tr>\n",
       "    <tr>\n",
       "      <th>4</th>\n",
       "      <td>Stub</td>\n",
       "      <td>5700</td>\n",
       "    </tr>\n",
       "    <tr>\n",
       "      <th>8</th>\n",
       "      <td>List</td>\n",
       "      <td>804</td>\n",
       "    </tr>\n",
       "    <tr>\n",
       "      <th>7</th>\n",
       "      <td>Unassessed</td>\n",
       "      <td>998</td>\n",
       "    </tr>\n",
       "  </tbody>\n",
       "</table>\n",
       "</div>"
      ],
      "text/plain": [
       "        index  quality\n",
       "5          FA     5347\n",
       "6          FL     2802\n",
       "9           A      568\n",
       "3          GA    18788\n",
       "1           B    30252\n",
       "0           C    31730\n",
       "2       Start    26633\n",
       "4        Stub     5700\n",
       "8        List      804\n",
       "7  Unassessed      998"
      ]
     },
     "execution_count": 7,
     "metadata": {},
     "output_type": "execute_result"
    }
   ],
   "source": [
    "wp10_quality_count.sort_values('index', ascending=False)"
   ]
  },
  {
   "cell_type": "markdown",
   "metadata": {},
   "source": [
    "Compared with https://en.wikipedia.org/wiki/Wikipedia:Version_1.0_Editorial_Team/Statistics\n",
    "\n",
    "Quality | Total\n",
    ":--|--:\n",
    "FA-Class|6,866\n",
    "FL-Class|2,020\n",
    "A-Class|2,109\n",
    "GA-Class|33,420\n",
    "B-Class|131,091\n",
    "C-Class|332,133\n",
    "Start-Class|1,826,843\n",
    "Stub-Class|3,390,074\n",
    "List-Class|256,087\n",
    "Assessed-Class|5,980,643\n",
    "Unassessed|493,561\n",
    "Total|6,474,204\n"
   ]
  },
  {
   "cell_type": "code",
   "execution_count": 8,
   "metadata": {},
   "outputs": [],
   "source": [
    "np.random.seed(1337)\n",
    "s_size = 5\n",
    "wp10_sample = wp10_quality[~wp10_quality['quality'].isin(['FL', 'List', 'Unassessed'])].groupby('quality', group_keys=False).apply(lambda x: x.sample(min(len(x), s_size)))"
   ]
  },
  {
   "cell_type": "code",
   "execution_count": 9,
   "metadata": {},
   "outputs": [
    {
     "data": {
      "text/html": [
       "<div>\n",
       "<style scoped>\n",
       "    .dataframe tbody tr th:only-of-type {\n",
       "        vertical-align: middle;\n",
       "    }\n",
       "\n",
       "    .dataframe tbody tr th {\n",
       "        vertical-align: top;\n",
       "    }\n",
       "\n",
       "    .dataframe thead th {\n",
       "        text-align: right;\n",
       "    }\n",
       "</style>\n",
       "<table border=\"1\" class=\"dataframe\">\n",
       "  <thead>\n",
       "    <tr style=\"text-align: right;\">\n",
       "      <th></th>\n",
       "      <th>article</th>\n",
       "      <th>quality</th>\n",
       "    </tr>\n",
       "  </thead>\n",
       "  <tbody>\n",
       "    <tr>\n",
       "      <th>0</th>\n",
       "      <td>1846 Havana hurricane</td>\n",
       "      <td>A</td>\n",
       "    </tr>\n",
       "    <tr>\n",
       "      <th>1</th>\n",
       "      <td>Priscus (general)</td>\n",
       "      <td>A</td>\n",
       "    </tr>\n",
       "    <tr>\n",
       "      <th>2</th>\n",
       "      <td>Lê Văn Duyệt</td>\n",
       "      <td>A</td>\n",
       "    </tr>\n",
       "    <tr>\n",
       "      <th>3</th>\n",
       "      <td>Brilliant Pebbles</td>\n",
       "      <td>A</td>\n",
       "    </tr>\n",
       "    <tr>\n",
       "      <th>4</th>\n",
       "      <td>Dartford Crossing</td>\n",
       "      <td>A</td>\n",
       "    </tr>\n",
       "  </tbody>\n",
       "</table>\n",
       "</div>"
      ],
      "text/plain": [
       "                 article quality\n",
       "0  1846 Havana hurricane       A\n",
       "1      Priscus (general)       A\n",
       "2           Lê Văn Duyệt       A\n",
       "3      Brilliant Pebbles       A\n",
       "4      Dartford Crossing       A"
      ]
     },
     "execution_count": 9,
     "metadata": {},
     "output_type": "execute_result"
    }
   ],
   "source": [
    "wp10_sample.reset_index(inplace = True, drop = True) \n",
    "wp10_sample.head()"
   ]
  },
  {
   "cell_type": "markdown",
   "metadata": {},
   "source": [
    "## Exploration of the sample articles"
   ]
  },
  {
   "cell_type": "code",
   "execution_count": 10,
   "metadata": {},
   "outputs": [],
   "source": [
    "import datetime\n",
    "from external.wikipedia import WikipediaDV, WikipediaAPI\n",
    "from wikiwho_wrapper import WikiWho\n",
    "from metrics.conflict import ConflictManager\n",
    "import time\n",
    "import os.path\n",
    "import articlequality\n",
    "import mwxml\n",
    "import requests\n",
    "import pickle"
   ]
  },
  {
   "cell_type": "code",
   "execution_count": 11,
   "metadata": {},
   "outputs": [],
   "source": [
    "from requests.packages.urllib3.exceptions import InsecureRequestWarning\n",
    "requests.packages.urllib3.disable_warnings(InsecureRequestWarning)"
   ]
  },
  {
   "cell_type": "code",
   "execution_count": 12,
   "metadata": {},
   "outputs": [],
   "source": [
    "wikipedia_dv = WikipediaDV(WikipediaAPI(domain='en.wikipedia.org'))\n",
    "wikiwho = WikiWho(lng='en')"
   ]
  },
  {
   "cell_type": "code",
   "execution_count": 13,
   "metadata": {},
   "outputs": [],
   "source": [
    "wp10_sample['page_id'] = wp10_sample['article'].apply(lambda x: wikipedia_dv.get_page(x)['page_id'] )\n",
    "wp10_sample['talkpage_id'] = wp10_sample['article'].apply(lambda x: wikipedia_dv.get_page('Talk:%s'%x)['page_id'] )"
   ]
  },
  {
   "cell_type": "code",
   "execution_count": 14,
   "metadata": {},
   "outputs": [
    {
     "data": {
      "text/html": [
       "<div>\n",
       "<style scoped>\n",
       "    .dataframe tbody tr th:only-of-type {\n",
       "        vertical-align: middle;\n",
       "    }\n",
       "\n",
       "    .dataframe tbody tr th {\n",
       "        vertical-align: top;\n",
       "    }\n",
       "\n",
       "    .dataframe thead th {\n",
       "        text-align: right;\n",
       "    }\n",
       "</style>\n",
       "<table border=\"1\" class=\"dataframe\">\n",
       "  <thead>\n",
       "    <tr style=\"text-align: right;\">\n",
       "      <th></th>\n",
       "      <th>article</th>\n",
       "      <th>quality</th>\n",
       "      <th>page_id</th>\n",
       "      <th>talkpage_id</th>\n",
       "    </tr>\n",
       "  </thead>\n",
       "  <tbody>\n",
       "    <tr>\n",
       "      <th>0</th>\n",
       "      <td>1846 Havana hurricane</td>\n",
       "      <td>A</td>\n",
       "      <td>3608389</td>\n",
       "      <td>3608560</td>\n",
       "    </tr>\n",
       "    <tr>\n",
       "      <th>1</th>\n",
       "      <td>Priscus (general)</td>\n",
       "      <td>A</td>\n",
       "      <td>26377832</td>\n",
       "      <td>26384943</td>\n",
       "    </tr>\n",
       "    <tr>\n",
       "      <th>2</th>\n",
       "      <td>Lê Văn Duyệt</td>\n",
       "      <td>A</td>\n",
       "      <td>23964203</td>\n",
       "      <td>23964481</td>\n",
       "    </tr>\n",
       "    <tr>\n",
       "      <th>3</th>\n",
       "      <td>Brilliant Pebbles</td>\n",
       "      <td>A</td>\n",
       "      <td>1291047</td>\n",
       "      <td>55908840</td>\n",
       "    </tr>\n",
       "    <tr>\n",
       "      <th>4</th>\n",
       "      <td>Dartford Crossing</td>\n",
       "      <td>A</td>\n",
       "      <td>62740</td>\n",
       "      <td>5185736</td>\n",
       "    </tr>\n",
       "    <tr>\n",
       "      <th>5</th>\n",
       "      <td>Saul Bass</td>\n",
       "      <td>B</td>\n",
       "      <td>849349</td>\n",
       "      <td>1814266</td>\n",
       "    </tr>\n",
       "    <tr>\n",
       "      <th>6</th>\n",
       "      <td>History of the Maya civilization</td>\n",
       "      <td>B</td>\n",
       "      <td>46998769</td>\n",
       "      <td>46999152</td>\n",
       "    </tr>\n",
       "    <tr>\n",
       "      <th>7</th>\n",
       "      <td>RAF Church Lawford</td>\n",
       "      <td>B</td>\n",
       "      <td>35170176</td>\n",
       "      <td>35217196</td>\n",
       "    </tr>\n",
       "    <tr>\n",
       "      <th>8</th>\n",
       "      <td>Orbiter (Canada's Wonderland)</td>\n",
       "      <td>B</td>\n",
       "      <td>33242610</td>\n",
       "      <td>33244369</td>\n",
       "    </tr>\n",
       "    <tr>\n",
       "      <th>9</th>\n",
       "      <td>WBMX (FM)</td>\n",
       "      <td>B</td>\n",
       "      <td>2381612</td>\n",
       "      <td>2752307</td>\n",
       "    </tr>\n",
       "    <tr>\n",
       "      <th>10</th>\n",
       "      <td>Cassareep</td>\n",
       "      <td>C</td>\n",
       "      <td>8644089</td>\n",
       "      <td>25001900</td>\n",
       "    </tr>\n",
       "    <tr>\n",
       "      <th>11</th>\n",
       "      <td>Sushil Kumar Modi</td>\n",
       "      <td>C</td>\n",
       "      <td>4067450</td>\n",
       "      <td>4357089</td>\n",
       "    </tr>\n",
       "    <tr>\n",
       "      <th>12</th>\n",
       "      <td>Franz Miklosich</td>\n",
       "      <td>C</td>\n",
       "      <td>57732</td>\n",
       "      <td>10643078</td>\n",
       "    </tr>\n",
       "    <tr>\n",
       "      <th>13</th>\n",
       "      <td>Yum cha</td>\n",
       "      <td>C</td>\n",
       "      <td>269558</td>\n",
       "      <td>3784630</td>\n",
       "    </tr>\n",
       "    <tr>\n",
       "      <th>14</th>\n",
       "      <td>Notability in the English Wikipedia</td>\n",
       "      <td>C</td>\n",
       "      <td>22569585</td>\n",
       "      <td>22582634</td>\n",
       "    </tr>\n",
       "    <tr>\n",
       "      <th>15</th>\n",
       "      <td>Tasha Yar</td>\n",
       "      <td>FA</td>\n",
       "      <td>67072</td>\n",
       "      <td>3191980</td>\n",
       "    </tr>\n",
       "    <tr>\n",
       "      <th>16</th>\n",
       "      <td>Pengkhianatan G30S/PKI</td>\n",
       "      <td>FA</td>\n",
       "      <td>38019984</td>\n",
       "      <td>38045296</td>\n",
       "    </tr>\n",
       "    <tr>\n",
       "      <th>17</th>\n",
       "      <td>George V</td>\n",
       "      <td>FA</td>\n",
       "      <td>46823</td>\n",
       "      <td>259040</td>\n",
       "    </tr>\n",
       "    <tr>\n",
       "      <th>18</th>\n",
       "      <td>William Hely</td>\n",
       "      <td>FA</td>\n",
       "      <td>39543672</td>\n",
       "      <td>39543714</td>\n",
       "    </tr>\n",
       "    <tr>\n",
       "      <th>19</th>\n",
       "      <td>John McCain</td>\n",
       "      <td>FA</td>\n",
       "      <td>43715</td>\n",
       "      <td>18277665</td>\n",
       "    </tr>\n",
       "    <tr>\n",
       "      <th>20</th>\n",
       "      <td>Half-Way Covenant</td>\n",
       "      <td>GA</td>\n",
       "      <td>1475046</td>\n",
       "      <td>2855560</td>\n",
       "    </tr>\n",
       "    <tr>\n",
       "      <th>21</th>\n",
       "      <td>Gilbert Thomas Carter</td>\n",
       "      <td>GA</td>\n",
       "      <td>25167742</td>\n",
       "      <td>25170236</td>\n",
       "    </tr>\n",
       "    <tr>\n",
       "      <th>22</th>\n",
       "      <td>Spontaneous cerebrospinal fluid leak</td>\n",
       "      <td>GA</td>\n",
       "      <td>20355155</td>\n",
       "      <td>20408075</td>\n",
       "    </tr>\n",
       "    <tr>\n",
       "      <th>23</th>\n",
       "      <td>Donald Glover</td>\n",
       "      <td>GA</td>\n",
       "      <td>8543614</td>\n",
       "      <td>9837283</td>\n",
       "    </tr>\n",
       "    <tr>\n",
       "      <th>24</th>\n",
       "      <td>Howl's Moving Castle (film)</td>\n",
       "      <td>GA</td>\n",
       "      <td>3903364</td>\n",
       "      <td>3979386</td>\n",
       "    </tr>\n",
       "    <tr>\n",
       "      <th>25</th>\n",
       "      <td>Faaa</td>\n",
       "      <td>Start</td>\n",
       "      <td>3745809</td>\n",
       "      <td>9156585</td>\n",
       "    </tr>\n",
       "    <tr>\n",
       "      <th>26</th>\n",
       "      <td>Nerang–Broadbeach Road</td>\n",
       "      <td>Start</td>\n",
       "      <td>20159093</td>\n",
       "      <td>23435395</td>\n",
       "    </tr>\n",
       "    <tr>\n",
       "      <th>27</th>\n",
       "      <td>Leo Holub</td>\n",
       "      <td>Start</td>\n",
       "      <td>28711125</td>\n",
       "      <td>28732996</td>\n",
       "    </tr>\n",
       "    <tr>\n",
       "      <th>28</th>\n",
       "      <td>Blood of the Fold</td>\n",
       "      <td>Start</td>\n",
       "      <td>1194749</td>\n",
       "      <td>6980767</td>\n",
       "    </tr>\n",
       "    <tr>\n",
       "      <th>29</th>\n",
       "      <td>Breathless (CSI: Miami)</td>\n",
       "      <td>Start</td>\n",
       "      <td>9701772</td>\n",
       "      <td>12256343</td>\n",
       "    </tr>\n",
       "    <tr>\n",
       "      <th>30</th>\n",
       "      <td>Sea Life Busan Aquarium</td>\n",
       "      <td>Stub</td>\n",
       "      <td>33124310</td>\n",
       "      <td>33921481</td>\n",
       "    </tr>\n",
       "    <tr>\n",
       "      <th>31</th>\n",
       "      <td>Cross Lake (Shreveport, Louisiana)</td>\n",
       "      <td>Stub</td>\n",
       "      <td>8412790</td>\n",
       "      <td>8965351</td>\n",
       "    </tr>\n",
       "    <tr>\n",
       "      <th>32</th>\n",
       "      <td>International School of Choueifat, Sharjah</td>\n",
       "      <td>Stub</td>\n",
       "      <td>7135624</td>\n",
       "      <td>19595066</td>\n",
       "    </tr>\n",
       "    <tr>\n",
       "      <th>33</th>\n",
       "      <td>Splatter: Love, Honor and Paintball</td>\n",
       "      <td>Stub</td>\n",
       "      <td>23319745</td>\n",
       "      <td>23320203</td>\n",
       "    </tr>\n",
       "    <tr>\n",
       "      <th>34</th>\n",
       "      <td>Mulligan Highway</td>\n",
       "      <td>Stub</td>\n",
       "      <td>6013510</td>\n",
       "      <td>12621953</td>\n",
       "    </tr>\n",
       "  </tbody>\n",
       "</table>\n",
       "</div>"
      ],
      "text/plain": [
       "                                       article quality   page_id  talkpage_id\n",
       "0                        1846 Havana hurricane       A   3608389      3608560\n",
       "1                            Priscus (general)       A  26377832     26384943\n",
       "2                                 Lê Văn Duyệt       A  23964203     23964481\n",
       "3                            Brilliant Pebbles       A   1291047     55908840\n",
       "4                            Dartford Crossing       A     62740      5185736\n",
       "5                                    Saul Bass       B    849349      1814266\n",
       "6             History of the Maya civilization       B  46998769     46999152\n",
       "7                           RAF Church Lawford       B  35170176     35217196\n",
       "8                Orbiter (Canada's Wonderland)       B  33242610     33244369\n",
       "9                                    WBMX (FM)       B   2381612      2752307\n",
       "10                                   Cassareep       C   8644089     25001900\n",
       "11                           Sushil Kumar Modi       C   4067450      4357089\n",
       "12                             Franz Miklosich       C     57732     10643078\n",
       "13                                     Yum cha       C    269558      3784630\n",
       "14         Notability in the English Wikipedia       C  22569585     22582634\n",
       "15                                   Tasha Yar      FA     67072      3191980\n",
       "16                      Pengkhianatan G30S/PKI      FA  38019984     38045296\n",
       "17                                    George V      FA     46823       259040\n",
       "18                                William Hely      FA  39543672     39543714\n",
       "19                                 John McCain      FA     43715     18277665\n",
       "20                           Half-Way Covenant      GA   1475046      2855560\n",
       "21                       Gilbert Thomas Carter      GA  25167742     25170236\n",
       "22        Spontaneous cerebrospinal fluid leak      GA  20355155     20408075\n",
       "23                               Donald Glover      GA   8543614      9837283\n",
       "24                 Howl's Moving Castle (film)      GA   3903364      3979386\n",
       "25                                        Faaa   Start   3745809      9156585\n",
       "26                      Nerang–Broadbeach Road   Start  20159093     23435395\n",
       "27                                   Leo Holub   Start  28711125     28732996\n",
       "28                           Blood of the Fold   Start   1194749      6980767\n",
       "29                     Breathless (CSI: Miami)   Start   9701772     12256343\n",
       "30                     Sea Life Busan Aquarium    Stub  33124310     33921481\n",
       "31          Cross Lake (Shreveport, Louisiana)    Stub   8412790      8965351\n",
       "32  International School of Choueifat, Sharjah    Stub   7135624     19595066\n",
       "33         Splatter: Love, Honor and Paintball    Stub  23319745     23320203\n",
       "34                            Mulligan Highway    Stub   6013510     12621953"
      ]
     },
     "execution_count": 14,
     "metadata": {},
     "output_type": "execute_result"
    }
   ],
   "source": [
    "wp10_sample"
   ]
  },
  {
   "cell_type": "markdown",
   "metadata": {},
   "source": [
    "Get labels and timeseries of revision history"
   ]
  },
  {
   "cell_type": "code",
   "execution_count": 15,
   "metadata": {},
   "outputs": [],
   "source": [
    "# TODO: Limits? Max number of revisions? Filesize?\n",
    "# TODO: compress XML files\n",
    "def get_labels(x):\n",
    "    talk_path = 'data/talk/%s.xml' % x['talkpage_id']\n",
    "    if not os.path.isfile(talk_path):\n",
    "        talk_url = 'https://en.wikipedia.org/wiki/Special:Export/Talk:%s?templates=True&history=True' % x['article']\n",
    "        with open(talk_path, 'wb') as f:\n",
    "            resp = requests.get(talk_url, verify=False)\n",
    "            f.write(resp.content)\n",
    "    with open(talk_path, 'r') as f:\n",
    "        xmldump = mwxml.Dump.from_file(f)\n",
    "        labels_generator = articlequality.extract_labelings(dump = xmldump)\n",
    "        labels = pd.DataFrame([x for x in labels_generator])\n",
    "    # Convert\n",
    "    if len(labels) > 0:\n",
    "        labels['timestamp'] = pd.to_datetime(labels['timestamp'])\n",
    "        labels.rename(columns={'wp10': 'quality'}, inplace=True)\n",
    "        labels['quality'] = pd.Categorical(labels['quality'], ordered = True, categories = ['stub', 'start', 'c', 'b', 'ga', 'a', 'fa'])\n",
    "    return labels"
   ]
  },
  {
   "cell_type": "code",
   "execution_count": 16,
   "metadata": {},
   "outputs": [],
   "source": [
    "def get_ts(x):\n",
    "    print(x['article'])\n",
    "    ts_path = 'data/ts/%s.csv.zip' % x['page_id']\n",
    "    if not os.path.isfile(ts_path):\n",
    "        _content = wikiwho.dv.all_content(x['page_id'])\n",
    "        _revisions = wikiwho.dv.rev_ids_of_article(x['page_id'])\n",
    "        _calculator = ConflictManager(_content, _revisions, 'en')\n",
    "        _calculator.calculate();\n",
    "        ts = _calculator.all_actions\n",
    "        ts.to_csv(ts_path, compression={'method': 'zip', 'archive_name': '%s.csv'%x['page_id']})\n",
    "    else:\n",
    "        ts = pd.read_csv(ts_path)\n",
    "    # Convert\n",
    "    ts = ts.sort_values(['token_id', 'rev_time'], ascending=True).set_index('token_id')\n",
    "    ts['rev_time'] = pd.to_datetime(ts['rev_time']).dt.tz_localize(None)\n",
    "    return ts"
   ]
  },
  {
   "cell_type": "code",
   "execution_count": 17,
   "metadata": {},
   "outputs": [],
   "source": [
    "#tsr = get_ts( wp10_sample.iloc[0] )\n",
    "#tsr.head()"
   ]
  },
  {
   "cell_type": "code",
   "execution_count": 18,
   "metadata": {},
   "outputs": [
    {
     "name": "stderr",
     "output_type": "stream",
     "text": [
      "..................................."
     ]
    },
    {
     "name": "stdout",
     "output_type": "stream",
     "text": [
      "1846 Havana hurricane\n"
     ]
    },
    {
     "name": "stderr",
     "output_type": "stream",
     "text": [
      "......................................."
     ]
    },
    {
     "name": "stdout",
     "output_type": "stream",
     "text": [
      "Priscus (general)\n"
     ]
    },
    {
     "name": "stderr",
     "output_type": "stream",
     "text": [
      "...................................."
     ]
    },
    {
     "name": "stdout",
     "output_type": "stream",
     "text": [
      "Lê Văn Duyệt\n"
     ]
    },
    {
     "name": "stderr",
     "output_type": "stream",
     "text": [
      "......"
     ]
    },
    {
     "name": "stdout",
     "output_type": "stream",
     "text": [
      "Brilliant Pebbles\n"
     ]
    },
    {
     "name": "stderr",
     "output_type": "stream",
     "text": [
      "......................................"
     ]
    },
    {
     "name": "stdout",
     "output_type": "stream",
     "text": [
      "Dartford Crossing\n"
     ]
    },
    {
     "name": "stderr",
     "output_type": "stream",
     "text": [
      ".........................................................................................................................................................................."
     ]
    },
    {
     "name": "stdout",
     "output_type": "stream",
     "text": [
      "Saul Bass\n"
     ]
    },
    {
     "name": "stderr",
     "output_type": "stream",
     "text": [
      "..................................."
     ]
    },
    {
     "name": "stdout",
     "output_type": "stream",
     "text": [
      "History of the Maya civilization\n"
     ]
    },
    {
     "name": "stderr",
     "output_type": "stream",
     "text": [
      "..."
     ]
    },
    {
     "name": "stdout",
     "output_type": "stream",
     "text": [
      "RAF Church Lawford\n"
     ]
    },
    {
     "name": "stderr",
     "output_type": "stream",
     "text": [
      "......."
     ]
    },
    {
     "name": "stdout",
     "output_type": "stream",
     "text": [
      "Orbiter (Canada's Wonderland)\n"
     ]
    },
    {
     "name": "stderr",
     "output_type": "stream",
     "text": [
      "..................."
     ]
    },
    {
     "name": "stdout",
     "output_type": "stream",
     "text": [
      "WBMX (FM)\n"
     ]
    },
    {
     "name": "stderr",
     "output_type": "stream",
     "text": [
      "....."
     ]
    },
    {
     "name": "stdout",
     "output_type": "stream",
     "text": [
      "Cassareep\n"
     ]
    },
    {
     "name": "stderr",
     "output_type": "stream",
     "text": [
      "............."
     ]
    },
    {
     "name": "stdout",
     "output_type": "stream",
     "text": [
      "Sushil Kumar Modi\n"
     ]
    },
    {
     "name": "stderr",
     "output_type": "stream",
     "text": [
      "............................."
     ]
    },
    {
     "name": "stdout",
     "output_type": "stream",
     "text": [
      "Franz Miklosich\n"
     ]
    },
    {
     "name": "stderr",
     "output_type": "stream",
     "text": [
      "..................................................."
     ]
    },
    {
     "name": "stdout",
     "output_type": "stream",
     "text": [
      "Yum cha\n"
     ]
    },
    {
     "name": "stderr",
     "output_type": "stream",
     "text": [
      "....................."
     ]
    },
    {
     "name": "stdout",
     "output_type": "stream",
     "text": [
      "Notability in the English Wikipedia\n"
     ]
    },
    {
     "name": "stderr",
     "output_type": "stream",
     "text": [
      "..................................................................................................................................."
     ]
    },
    {
     "name": "stdout",
     "output_type": "stream",
     "text": [
      "Tasha Yar\n"
     ]
    },
    {
     "name": "stderr",
     "output_type": "stream",
     "text": [
      "...................................................................................................................................."
     ]
    },
    {
     "name": "stdout",
     "output_type": "stream",
     "text": [
      "Pengkhianatan G30S/PKI\n",
      "George V\n"
     ]
    },
    {
     "name": "stderr",
     "output_type": "stream",
     "text": [
      "........................................................................................................................................................................................................................................................................................................................................"
     ]
    },
    {
     "name": "stdout",
     "output_type": "stream",
     "text": [
      "William Hely\n",
      "John McCain\n"
     ]
    },
    {
     "name": "stderr",
     "output_type": "stream",
     "text": [
      "/Library/Frameworks/Python.framework/Versions/3.6/lib/python3.6/site-packages/IPython/core/interactiveshell.py:3183: DtypeWarning: Columns (4,10) have mixed types.Specify dtype option on import or set low_memory=False.\n",
      "  if (yield from self.run_code(code, result)):\n",
      "......................................................................................................................................................................................................................................................................................................................................................................................................................................................................................................................................................................................................................................................................................................................................................................................................................................................................................................................................................................................................................................................................................................................................................................................................................................................................................................................................................................................................................................................................................................................................................................................................................................................................................................................................................................................................................................................................................................................................................................................................................................................................................................................................................................................................................................................................................................................................................................................................................................................................................................................................................................................................................................................................................................................................................................................................................................................................................................................................................................................................................................................................................................................................................................................................................................................................................................................................................................................................................................................................................................................................................................................................................................................................................................................................................................................................................................................................................................................................................................................................................................................................................................................................................................................................................................................................................................................................................................................................................................................................................................................................................................................................................................................................................................................................................................................................................................................................................................................................................................................................................................................................................................................................................................................................................................................................................................................................................................................................................................................................................................................................................................................................................................................................................................................................................................................................................................................................................................................................................................................................................................................................................................................................................................................................................................................................................................................................................................"
     ]
    },
    {
     "name": "stdout",
     "output_type": "stream",
     "text": [
      "Half-Way Covenant\n"
     ]
    },
    {
     "name": "stderr",
     "output_type": "stream",
     "text": [
      "......................................................................."
     ]
    },
    {
     "name": "stdout",
     "output_type": "stream",
     "text": [
      "Gilbert Thomas Carter\n"
     ]
    },
    {
     "name": "stderr",
     "output_type": "stream",
     "text": [
      "..........................."
     ]
    },
    {
     "name": "stdout",
     "output_type": "stream",
     "text": [
      "Spontaneous cerebrospinal fluid leak\n"
     ]
    },
    {
     "name": "stderr",
     "output_type": "stream",
     "text": [
      "..................................................................................................................................................................................."
     ]
    },
    {
     "name": "stdout",
     "output_type": "stream",
     "text": [
      "Donald Glover\n"
     ]
    },
    {
     "name": "stderr",
     "output_type": "stream",
     "text": [
      "..............................................................................................................."
     ]
    },
    {
     "name": "stdout",
     "output_type": "stream",
     "text": [
      "Howl's Moving Castle (film)\n"
     ]
    },
    {
     "name": "stderr",
     "output_type": "stream",
     "text": [
      "................................................................................................................................................................"
     ]
    },
    {
     "name": "stdout",
     "output_type": "stream",
     "text": [
      "Faaa\n"
     ]
    },
    {
     "name": "stderr",
     "output_type": "stream",
     "text": [
      "................"
     ]
    },
    {
     "name": "stdout",
     "output_type": "stream",
     "text": [
      "Nerang–Broadbeach Road\n"
     ]
    },
    {
     "name": "stderr",
     "output_type": "stream",
     "text": [
      "......."
     ]
    },
    {
     "name": "stdout",
     "output_type": "stream",
     "text": [
      "Leo Holub\n"
     ]
    },
    {
     "name": "stderr",
     "output_type": "stream",
     "text": [
      "........"
     ]
    },
    {
     "name": "stdout",
     "output_type": "stream",
     "text": [
      "Blood of the Fold\n"
     ]
    },
    {
     "name": "stderr",
     "output_type": "stream",
     "text": [
      "....."
     ]
    },
    {
     "name": "stdout",
     "output_type": "stream",
     "text": [
      "Breathless (CSI: Miami)\n"
     ]
    },
    {
     "name": "stderr",
     "output_type": "stream",
     "text": [
      "......"
     ]
    },
    {
     "name": "stdout",
     "output_type": "stream",
     "text": [
      "Sea Life Busan Aquarium\n"
     ]
    },
    {
     "name": "stderr",
     "output_type": "stream",
     "text": [
      "........."
     ]
    },
    {
     "name": "stdout",
     "output_type": "stream",
     "text": [
      "Cross Lake (Shreveport, Louisiana)\n"
     ]
    },
    {
     "name": "stderr",
     "output_type": "stream",
     "text": [
      "......"
     ]
    },
    {
     "name": "stdout",
     "output_type": "stream",
     "text": [
      "International School of Choueifat, Sharjah\n"
     ]
    },
    {
     "name": "stderr",
     "output_type": "stream",
     "text": [
      ".........."
     ]
    },
    {
     "name": "stdout",
     "output_type": "stream",
     "text": [
      "Splatter: Love, Honor and Paintball\n"
     ]
    },
    {
     "name": "stderr",
     "output_type": "stream",
     "text": [
      ".........."
     ]
    },
    {
     "name": "stdout",
     "output_type": "stream",
     "text": [
      "Mulligan Highway\n"
     ]
    }
   ],
   "source": [
    "list_ts = []\n",
    "list_labels = []\n",
    "for i, page in wp10_sample.iterrows():\n",
    "    ts = get_ts(page)\n",
    "    list_ts.append(ts)\n",
    "    labels = get_labels(page)\n",
    "    list_labels.append(labels)\n",
    "    time.sleep(0.5)"
   ]
  },
  {
   "cell_type": "code",
   "execution_count": 19,
   "metadata": {},
   "outputs": [],
   "source": [
    "with open(\"data/sample_data.pickle\", \"wb\") as f:\n",
    "    pickle.dump((list_ts, list_labels), f)"
   ]
  },
  {
   "cell_type": "code",
   "execution_count": 20,
   "metadata": {},
   "outputs": [],
   "source": [
    "#with open(\"data/sample_data.pickle\", \"rb\") as f:\n",
    "#    list_ts, list_labels = pickle.load(f) "
   ]
  },
  {
   "cell_type": "markdown",
   "metadata": {},
   "source": [
    "### Contribution"
   ]
  },
  {
   "cell_type": "code",
   "execution_count": 21,
   "metadata": {},
   "outputs": [],
   "source": [
    "def return_first_labels(labels):\n",
    "    labels_first = labels.groupby('quality', observed=True).first().reset_index().sort_values('timestamp')\n",
    "    # Remove grade if the grade is lower than an earlier grade, and if grades are not 'GA' and 'A'.\n",
    "    labels_first['quality_lt_prev'] = labels_first['quality'] < labels_first['quality'].shift(1)\n",
    "    labels_first['quality_a_ga'] = np.logical_and(labels_first['quality'] == 'a', labels_first['quality'].shift(1) == 'ga')\n",
    "    labels_first['quality_ga_a'] = np.logical_and(labels_first['quality'] == 'ga', labels_first['quality'].shift(1) == 'a')\n",
    "    labels_first['quality_not_ga_a'] = ~np.logical_or(labels_first['quality_a_ga'], labels_first['quality_ga_a'])\n",
    "    labels_first['quality_drop'] = np.logical_and(labels_first['quality_lt_prev'], labels_first['quality_not_ga_a'])\n",
    "    labels_first = labels_first[~labels_first['quality_drop']]\n",
    "    labels_first = labels_first.loc[:,~labels_first.columns.str.startswith('quality_')]\n",
    "    return labels_first"
   ]
  },
  {
   "cell_type": "code",
   "execution_count": 22,
   "metadata": {},
   "outputs": [],
   "source": [
    "def quality_transitions(i):\n",
    "    transition_bins = []\n",
    "    tl = pd.DataFrame()\n",
    "    if len(list_labels[i]) > 0:\n",
    "        labels_first = return_first_labels(list_labels[i])\n",
    "        \n",
    "        rev_time_min = (list_ts[i]['rev_time'].min()-pd.DateOffset(days=1)).floor('D')\n",
    "        rev_time_max = (list_ts[i]['rev_time'].max()+pd.DateOffset(days=1)).ceil('D')\n",
    "        transition_bins = labels_first['timestamp'].values\n",
    "        quality_labels = labels_first['quality'].values.astype(str)\n",
    "        if min(transition_bins) >= rev_time_min:\n",
    "            transition_bins = np.insert(transition_bins, 0, rev_time_min)\n",
    "            quality_labels = np.insert(quality_labels, 0, ' ')\n",
    "        if max(transition_bins) <= rev_time_max:\n",
    "            transition_bins = np.insert(transition_bins, len(transition_bins), rev_time_max)\n",
    "            quality_labels = np.insert(quality_labels, len(quality_labels), ' ')\n",
    "        \n",
    "        tl['time'] = transition_bins\n",
    "        tl['quality'] = quality_labels\n",
    "        tl['quality_transition'] = tl['quality'].shift(1) + \" → \" + tl['quality']\n",
    "        tl['quality_transition'] = pd.Categorical(tl['quality_transition'], categories = tl['quality_transition'][1:].tolist(), ordered = True)\n",
    "        tl.insert(0, 'time_prior', tl['time'].shift(1))\n",
    "        tl.drop(0, inplace=True)\n",
    "        tl.drop('quality', axis=1, inplace=True)\n",
    "    return transition_bins, tl"
   ]
  },
  {
   "cell_type": "code",
   "execution_count": 23,
   "metadata": {},
   "outputs": [],
   "source": [
    "list_transition_bins= []\n",
    "list_transition_labels = []\n",
    "for i, page in wp10_sample.iterrows():\n",
    "    transition_bins, tl = quality_transitions(i)\n",
    "    list_transition_bins.append(transition_bins)\n",
    "    list_transition_labels.append(tl)"
   ]
  },
  {
   "cell_type": "code",
   "execution_count": 24,
   "metadata": {},
   "outputs": [],
   "source": [
    "for i, page in wp10_sample.iterrows():\n",
    "    if len(list_labels[i]) > 0:\n",
    "        list_ts[i]['quality_transition'] = pd.cut(list_ts[i]['rev_time'], list_transition_bins[i], include_lowest=True, labels = list_transition_labels[i]['quality_transition'].values)"
   ]
  },
  {
   "cell_type": "code",
   "execution_count": 25,
   "metadata": {},
   "outputs": [],
   "source": [
    "# TODO: Ranking without ties\n",
    "list_transition_contribution = []\n",
    "for i, page in wp10_sample.iterrows():\n",
    "    _transition_contribution = pd.DataFrame()\n",
    "    if len(list_labels[i]) > 0:\n",
    "        last_action = list_ts[i].groupby(['quality_transition', 'token_id']).last()\n",
    "        survived_tokens = last_action[last_action['action'] != 'out']\n",
    "        count = survived_tokens.groupby(['quality_transition', 'editor']).size()\n",
    "        transition_contribution = pd.DataFrame({'abs': count}).reset_index()\n",
    "        # Convert\n",
    "        transition_contribution['ranking'] = transition_contribution.groupby('editor')['abs'].transform(np.sum).rank(ascending=False, method='dense').astype(int)\n",
    "        transition_contribution['editor_top10'] = np.where(transition_contribution['ranking'] < 10, transition_contribution['editor'], 0)\n",
    "    list_transition_contribution.append(transition_contribution)"
   ]
  },
  {
   "cell_type": "markdown",
   "metadata": {},
   "source": [
    "### Plots"
   ]
  },
  {
   "cell_type": "code",
   "execution_count": 26,
   "metadata": {},
   "outputs": [],
   "source": [
    "import altair as alt"
   ]
  },
  {
   "cell_type": "code",
   "execution_count": 27,
   "metadata": {},
   "outputs": [],
   "source": [
    "alt.renderers.enable('default', embed_options={'actions': False})\n",
    "alt.data_transformers.disable_max_rows();"
   ]
  },
  {
   "cell_type": "code",
   "execution_count": 28,
   "metadata": {},
   "outputs": [],
   "source": [
    "def plot_transition_contribution(article, transition_contribution, tl):\n",
    "    editor_order = transition_contribution[['editor', 'ranking']].drop_duplicates().sort_values(by=['ranking'])['editor'].values\n",
    "    fig = alt.Chart(transition_contribution).mark_bar().encode(\n",
    "        x = alt.X('quality_transition:O', title = \"Transitions of the content assesment class\", sort = tl['quality_transition'].tolist(), axis = alt.Axis(labelAngle = 0, labelFontSize = 13, labelFontWeight = 'bold')),\n",
    "        y = alt.Y('abs', title = 'New token ownership'),\n",
    "        color = alt.Color('editor_top10:N', title = \"Top 10 editors\", sort = editor_order),\n",
    "        order = alt.Order('ranking', sort = 'ascending')\n",
    "    ).properties(width = 400, title = ['%s'%article, 'New contributions by editor across content assesment phases'])\n",
    "    return fig"
   ]
  },
  {
   "cell_type": "code",
   "execution_count": 29,
   "metadata": {},
   "outputs": [],
   "source": [
    "list_plot_transition_contribution = []\n",
    "for i, page in wp10_sample.iterrows():\n",
    "    if len(list_labels[i]) > 0:\n",
    "        plot = plot_transition_contribution(wp10_sample['article'].values[i], list_transition_contribution[i], list_transition_labels[i])\n",
    "    else:\n",
    "        plot = alt.Chart(pd.DataFrame()).mark_bar()\n",
    "    list_plot_transition_contribution.append(plot)"
   ]
  },
  {
   "cell_type": "code",
   "execution_count": 30,
   "metadata": {},
   "outputs": [],
   "source": [
    "# All plots\n",
    "#alt.vconcat(*list_plot_transition_contribution).resolve_scale(color = 'independent')"
   ]
  },
  {
   "cell_type": "code",
   "execution_count": 31,
   "metadata": {},
   "outputs": [
    {
     "data": {
      "text/html": [
       "\n",
       "<div id=\"altair-viz-5cb7324431694097a25546ea874a03ff\"></div>\n",
       "<script type=\"text/javascript\">\n",
       "  (function(spec, embedOpt){\n",
       "    let outputDiv = document.currentScript.previousElementSibling;\n",
       "    if (outputDiv.id !== \"altair-viz-5cb7324431694097a25546ea874a03ff\") {\n",
       "      outputDiv = document.getElementById(\"altair-viz-5cb7324431694097a25546ea874a03ff\");\n",
       "    }\n",
       "    const paths = {\n",
       "      \"vega\": \"https://cdn.jsdelivr.net/npm//vega@5?noext\",\n",
       "      \"vega-lib\": \"https://cdn.jsdelivr.net/npm//vega-lib?noext\",\n",
       "      \"vega-lite\": \"https://cdn.jsdelivr.net/npm//vega-lite@4.8.1?noext\",\n",
       "      \"vega-embed\": \"https://cdn.jsdelivr.net/npm//vega-embed@6?noext\",\n",
       "    };\n",
       "\n",
       "    function loadScript(lib) {\n",
       "      return new Promise(function(resolve, reject) {\n",
       "        var s = document.createElement('script');\n",
       "        s.src = paths[lib];\n",
       "        s.async = true;\n",
       "        s.onload = () => resolve(paths[lib]);\n",
       "        s.onerror = () => reject(`Error loading script: ${paths[lib]}`);\n",
       "        document.getElementsByTagName(\"head\")[0].appendChild(s);\n",
       "      });\n",
       "    }\n",
       "\n",
       "    function showError(err) {\n",
       "      outputDiv.innerHTML = `<div class=\"error\" style=\"color:red;\">${err}</div>`;\n",
       "      throw err;\n",
       "    }\n",
       "\n",
       "    function displayChart(vegaEmbed) {\n",
       "      vegaEmbed(outputDiv, spec, embedOpt)\n",
       "        .catch(err => showError(`Javascript Error: ${err.message}<br>This usually means there's a typo in your chart specification. See the javascript console for the full traceback.`));\n",
       "    }\n",
       "\n",
       "    if(typeof define === \"function\" && define.amd) {\n",
       "      requirejs.config({paths});\n",
       "      require([\"vega-embed\"], displayChart, err => showError(`Error loading script: ${err.message}`));\n",
       "    } else if (typeof vegaEmbed === \"function\") {\n",
       "      displayChart(vegaEmbed);\n",
       "    } else {\n",
       "      loadScript(\"vega\")\n",
       "        .then(() => loadScript(\"vega-lite\"))\n",
       "        .then(() => loadScript(\"vega-embed\"))\n",
       "        .catch(showError)\n",
       "        .then(() => displayChart(vegaEmbed));\n",
       "    }\n",
       "  })({\"config\": {\"view\": {\"continuousWidth\": 400, \"continuousHeight\": 300}}, \"data\": {\"name\": \"data-f5af0281883a57edd5b30a7d65099926\"}, \"mark\": \"bar\", \"encoding\": {\"color\": {\"type\": \"nominal\", \"field\": \"editor_top10\", \"sort\": [\"9140350\", \"974195\", \"208453\", \"14126465\", \"4420035\", \"19166843\", \"917223\", \"0|124.148.78.166\", \"16958448\", \"75349\", \"1526960\", \"433328\", \"653289\", \"7240744\", \"878902\"], \"title\": \"Top 10 editors\"}, \"order\": {\"type\": \"quantitative\", \"field\": \"ranking\", \"sort\": \"ascending\"}, \"x\": {\"type\": \"ordinal\", \"axis\": {\"labelAngle\": 0, \"labelFontSize\": 13, \"labelFontWeight\": \"bold\"}, \"field\": \"quality_transition\", \"sort\": [\"  \\u2192 stub\", \"stub \\u2192  \"], \"title\": \"Transitions of the content assesment class\"}, \"y\": {\"type\": \"quantitative\", \"field\": \"abs\", \"title\": \"New token ownership\"}}, \"title\": [\"Mulligan Highway\", \"New contributions by editor across content assesment phases\"], \"width\": 400, \"$schema\": \"https://vega.github.io/schema/vega-lite/v4.8.1.json\", \"datasets\": {\"data-f5af0281883a57edd5b30a7d65099926\": [{\"quality_transition\": \"  \\u2192 stub\", \"editor\": \"0|124.148.78.166\", \"abs\": 0, \"ranking\": 8, \"editor_top10\": \"0|124.148.78.166\"}, {\"quality_transition\": \"  \\u2192 stub\", \"editor\": \"14126465\", \"abs\": 0, \"ranking\": 4, \"editor_top10\": \"14126465\"}, {\"quality_transition\": \"  \\u2192 stub\", \"editor\": \"1526960\", \"abs\": 0, \"ranking\": 10, \"editor_top10\": 0}, {\"quality_transition\": \"  \\u2192 stub\", \"editor\": \"16958448\", \"abs\": 0, \"ranking\": 9, \"editor_top10\": \"16958448\"}, {\"quality_transition\": \"  \\u2192 stub\", \"editor\": \"19166843\", \"abs\": 0, \"ranking\": 6, \"editor_top10\": \"19166843\"}, {\"quality_transition\": \"  \\u2192 stub\", \"editor\": \"208453\", \"abs\": 51, \"ranking\": 3, \"editor_top10\": \"208453\"}, {\"quality_transition\": \"  \\u2192 stub\", \"editor\": \"433328\", \"abs\": 0, \"ranking\": 10, \"editor_top10\": 0}, {\"quality_transition\": \"  \\u2192 stub\", \"editor\": \"4420035\", \"abs\": 3, \"ranking\": 5, \"editor_top10\": \"4420035\"}, {\"quality_transition\": \"  \\u2192 stub\", \"editor\": \"653289\", \"abs\": 1, \"ranking\": 10, \"editor_top10\": 0}, {\"quality_transition\": \"  \\u2192 stub\", \"editor\": \"7240744\", \"abs\": 0, \"ranking\": 10, \"editor_top10\": 0}, {\"quality_transition\": \"  \\u2192 stub\", \"editor\": \"75349\", \"abs\": 0, \"ranking\": 9, \"editor_top10\": \"75349\"}, {\"quality_transition\": \"  \\u2192 stub\", \"editor\": \"878902\", \"abs\": 0, \"ranking\": 10, \"editor_top10\": 0}, {\"quality_transition\": \"  \\u2192 stub\", \"editor\": \"9140350\", \"abs\": 0, \"ranking\": 1, \"editor_top10\": \"9140350\"}, {\"quality_transition\": \"  \\u2192 stub\", \"editor\": \"917223\", \"abs\": 0, \"ranking\": 7, \"editor_top10\": \"917223\"}, {\"quality_transition\": \"  \\u2192 stub\", \"editor\": \"974195\", \"abs\": 74, \"ranking\": 2, \"editor_top10\": \"974195\"}, {\"quality_transition\": \"stub \\u2192  \", \"editor\": \"0|124.148.78.166\", \"abs\": 4, \"ranking\": 8, \"editor_top10\": \"0|124.148.78.166\"}, {\"quality_transition\": \"stub \\u2192  \", \"editor\": \"14126465\", \"abs\": 37, \"ranking\": 4, \"editor_top10\": \"14126465\"}, {\"quality_transition\": \"stub \\u2192  \", \"editor\": \"1526960\", \"abs\": 1, \"ranking\": 10, \"editor_top10\": 0}, {\"quality_transition\": \"stub \\u2192  \", \"editor\": \"16958448\", \"abs\": 2, \"ranking\": 9, \"editor_top10\": \"16958448\"}, {\"quality_transition\": \"stub \\u2192  \", \"editor\": \"19166843\", \"abs\": 11, \"ranking\": 6, \"editor_top10\": \"19166843\"}, {\"quality_transition\": \"stub \\u2192  \", \"editor\": \"208453\", \"abs\": 0, \"ranking\": 3, \"editor_top10\": \"208453\"}, {\"quality_transition\": \"stub \\u2192  \", \"editor\": \"433328\", \"abs\": 1, \"ranking\": 10, \"editor_top10\": 0}, {\"quality_transition\": \"stub \\u2192  \", \"editor\": \"4420035\", \"abs\": 33, \"ranking\": 5, \"editor_top10\": \"4420035\"}, {\"quality_transition\": \"stub \\u2192  \", \"editor\": \"653289\", \"abs\": 0, \"ranking\": 10, \"editor_top10\": 0}, {\"quality_transition\": \"stub \\u2192  \", \"editor\": \"7240744\", \"abs\": 1, \"ranking\": 10, \"editor_top10\": 0}, {\"quality_transition\": \"stub \\u2192  \", \"editor\": \"75349\", \"abs\": 2, \"ranking\": 9, \"editor_top10\": \"75349\"}, {\"quality_transition\": \"stub \\u2192  \", \"editor\": \"878902\", \"abs\": 1, \"ranking\": 10, \"editor_top10\": 0}, {\"quality_transition\": \"stub \\u2192  \", \"editor\": \"9140350\", \"abs\": 192, \"ranking\": 1, \"editor_top10\": \"9140350\"}, {\"quality_transition\": \"stub \\u2192  \", \"editor\": \"917223\", \"abs\": 8, \"ranking\": 7, \"editor_top10\": \"917223\"}, {\"quality_transition\": \"stub \\u2192  \", \"editor\": \"974195\", \"abs\": 0, \"ranking\": 2, \"editor_top10\": \"974195\"}]}}, {\"actions\": false, \"mode\": \"vega-lite\"});\n",
       "</script>"
      ],
      "text/plain": [
       "alt.Chart(...)"
      ]
     },
     "execution_count": 31,
     "metadata": {},
     "output_type": "execute_result"
    }
   ],
   "source": [
    "# Random plot\n",
    "import random\n",
    "random.choice(list_plot_transition_contribution)"
   ]
  },
  {
   "cell_type": "markdown",
   "metadata": {},
   "source": [
    "Save all plots"
   ]
  },
  {
   "cell_type": "code",
   "execution_count": 32,
   "metadata": {},
   "outputs": [],
   "source": [
    "from altair_saver import save"
   ]
  },
  {
   "cell_type": "code",
   "execution_count": null,
   "metadata": {},
   "outputs": [],
   "source": [
    "for i, page in wp10_sample.iterrows():\n",
    "    if len(list_labels[i]) > 0:\n",
    "        save(list_plot_transition_contribution[i], 'charts/contributions_%s.svg'%wp10_sample['page_id'].values[i])"
   ]
  },
  {
   "cell_type": "code",
   "execution_count": null,
   "metadata": {},
   "outputs": [],
   "source": [
    "# If error, then save plot manually using action.\n",
    "#alt.renderers.enable('default', embed_options={'actions': True})\n",
    "#i = 19\n",
    "#list_plot_transition_contribution[i]"
   ]
  }
 ],
 "metadata": {
  "kernelspec": {
   "display_name": "Python 3",
   "language": "python",
   "name": "python3"
  },
  "language_info": {
   "codemirror_mode": {
    "name": "ipython",
    "version": 3
   },
   "file_extension": ".py",
   "mimetype": "text/x-python",
   "name": "python",
   "nbconvert_exporter": "python",
   "pygments_lexer": "ipython3",
   "version": "3.6.5"
  }
 },
 "nbformat": 4,
 "nbformat_minor": 2
}
